{
 "cells": [
  {
   "cell_type": "code",
   "execution_count": 19,
   "metadata": {},
   "outputs": [],
   "source": [
    "import pandas as pd\n",
    "import numpy as np\n",
    "import statsmodels.formula.api as smf\n",
    "from sklearn.linear_model import LogisticRegression\n",
    "from sklearn.model_selection import train_test_split\n"
   ]
  },
  {
   "cell_type": "code",
   "execution_count": 2,
   "metadata": {},
   "outputs": [
    {
     "data": {
      "text/html": [
       "<div>\n",
       "<style scoped>\n",
       "    .dataframe tbody tr th:only-of-type {\n",
       "        vertical-align: middle;\n",
       "    }\n",
       "\n",
       "    .dataframe tbody tr th {\n",
       "        vertical-align: top;\n",
       "    }\n",
       "\n",
       "    .dataframe thead th {\n",
       "        text-align: right;\n",
       "    }\n",
       "</style>\n",
       "<table border=\"1\" class=\"dataframe\">\n",
       "  <thead>\n",
       "    <tr style=\"text-align: right;\">\n",
       "      <th></th>\n",
       "      <th>RBC.Age.Group</th>\n",
       "      <th>Median.RBC.Age</th>\n",
       "      <th>Age</th>\n",
       "      <th>AA</th>\n",
       "      <th>FamHx</th>\n",
       "      <th>PVol</th>\n",
       "      <th>TVol</th>\n",
       "      <th>T.Stage</th>\n",
       "      <th>bGS</th>\n",
       "      <th>BN+</th>\n",
       "      <th>OrganConfined</th>\n",
       "      <th>PreopPSA</th>\n",
       "      <th>PreopTherapy</th>\n",
       "      <th>Units</th>\n",
       "      <th>sGS</th>\n",
       "      <th>AnyAdjTherapy</th>\n",
       "      <th>AdjRadTherapy</th>\n",
       "      <th>Recurrence</th>\n",
       "      <th>Censor</th>\n",
       "      <th>TimeToRecurrence</th>\n",
       "    </tr>\n",
       "  </thead>\n",
       "  <tbody>\n",
       "    <tr>\n",
       "      <th>0</th>\n",
       "      <td>3</td>\n",
       "      <td>25</td>\n",
       "      <td>72.1</td>\n",
       "      <td>0</td>\n",
       "      <td>0</td>\n",
       "      <td>54.0</td>\n",
       "      <td>3.0</td>\n",
       "      <td>1.0</td>\n",
       "      <td>3.0</td>\n",
       "      <td>0</td>\n",
       "      <td>0</td>\n",
       "      <td>14.08</td>\n",
       "      <td>1</td>\n",
       "      <td>6</td>\n",
       "      <td>1</td>\n",
       "      <td>0</td>\n",
       "      <td>0</td>\n",
       "      <td>1</td>\n",
       "      <td>0</td>\n",
       "      <td>2.67</td>\n",
       "    </tr>\n",
       "    <tr>\n",
       "      <th>1</th>\n",
       "      <td>3</td>\n",
       "      <td>25</td>\n",
       "      <td>73.6</td>\n",
       "      <td>0</td>\n",
       "      <td>0</td>\n",
       "      <td>43.2</td>\n",
       "      <td>3.0</td>\n",
       "      <td>2.0</td>\n",
       "      <td>2.0</td>\n",
       "      <td>0</td>\n",
       "      <td>1</td>\n",
       "      <td>10.50</td>\n",
       "      <td>0</td>\n",
       "      <td>2</td>\n",
       "      <td>3</td>\n",
       "      <td>0</td>\n",
       "      <td>0</td>\n",
       "      <td>1</td>\n",
       "      <td>0</td>\n",
       "      <td>47.63</td>\n",
       "    </tr>\n",
       "    <tr>\n",
       "      <th>2</th>\n",
       "      <td>3</td>\n",
       "      <td>25</td>\n",
       "      <td>67.5</td>\n",
       "      <td>0</td>\n",
       "      <td>0</td>\n",
       "      <td>102.7</td>\n",
       "      <td>1.0</td>\n",
       "      <td>1.0</td>\n",
       "      <td>3.0</td>\n",
       "      <td>0</td>\n",
       "      <td>1</td>\n",
       "      <td>6.98</td>\n",
       "      <td>1</td>\n",
       "      <td>1</td>\n",
       "      <td>1</td>\n",
       "      <td>0</td>\n",
       "      <td>0</td>\n",
       "      <td>0</td>\n",
       "      <td>1</td>\n",
       "      <td>14.10</td>\n",
       "    </tr>\n",
       "    <tr>\n",
       "      <th>3</th>\n",
       "      <td>2</td>\n",
       "      <td>15</td>\n",
       "      <td>65.8</td>\n",
       "      <td>0</td>\n",
       "      <td>0</td>\n",
       "      <td>46.0</td>\n",
       "      <td>1.0</td>\n",
       "      <td>1.0</td>\n",
       "      <td>1.0</td>\n",
       "      <td>0</td>\n",
       "      <td>1</td>\n",
       "      <td>4.40</td>\n",
       "      <td>0</td>\n",
       "      <td>2</td>\n",
       "      <td>3</td>\n",
       "      <td>0</td>\n",
       "      <td>0</td>\n",
       "      <td>0</td>\n",
       "      <td>1</td>\n",
       "      <td>59.47</td>\n",
       "    </tr>\n",
       "    <tr>\n",
       "      <th>4</th>\n",
       "      <td>2</td>\n",
       "      <td>15</td>\n",
       "      <td>63.2</td>\n",
       "      <td>0</td>\n",
       "      <td>0</td>\n",
       "      <td>60.0</td>\n",
       "      <td>2.0</td>\n",
       "      <td>1.0</td>\n",
       "      <td>2.0</td>\n",
       "      <td>0</td>\n",
       "      <td>1</td>\n",
       "      <td>21.40</td>\n",
       "      <td>0</td>\n",
       "      <td>3</td>\n",
       "      <td>3</td>\n",
       "      <td>0</td>\n",
       "      <td>0</td>\n",
       "      <td>0</td>\n",
       "      <td>1</td>\n",
       "      <td>1.23</td>\n",
       "    </tr>\n",
       "    <tr>\n",
       "      <th>...</th>\n",
       "      <td>...</td>\n",
       "      <td>...</td>\n",
       "      <td>...</td>\n",
       "      <td>...</td>\n",
       "      <td>...</td>\n",
       "      <td>...</td>\n",
       "      <td>...</td>\n",
       "      <td>...</td>\n",
       "      <td>...</td>\n",
       "      <td>...</td>\n",
       "      <td>...</td>\n",
       "      <td>...</td>\n",
       "      <td>...</td>\n",
       "      <td>...</td>\n",
       "      <td>...</td>\n",
       "      <td>...</td>\n",
       "      <td>...</td>\n",
       "      <td>...</td>\n",
       "      <td>...</td>\n",
       "      <td>...</td>\n",
       "    </tr>\n",
       "    <tr>\n",
       "      <th>311</th>\n",
       "      <td>1</td>\n",
       "      <td>10</td>\n",
       "      <td>54.8</td>\n",
       "      <td>0</td>\n",
       "      <td>0</td>\n",
       "      <td>25.6</td>\n",
       "      <td>2.0</td>\n",
       "      <td>1.0</td>\n",
       "      <td>1.0</td>\n",
       "      <td>0</td>\n",
       "      <td>1</td>\n",
       "      <td>5.00</td>\n",
       "      <td>0</td>\n",
       "      <td>1</td>\n",
       "      <td>3</td>\n",
       "      <td>0</td>\n",
       "      <td>0</td>\n",
       "      <td>0</td>\n",
       "      <td>1</td>\n",
       "      <td>76.03</td>\n",
       "    </tr>\n",
       "    <tr>\n",
       "      <th>312</th>\n",
       "      <td>3</td>\n",
       "      <td>25</td>\n",
       "      <td>62.3</td>\n",
       "      <td>1</td>\n",
       "      <td>0</td>\n",
       "      <td>42.3</td>\n",
       "      <td>2.0</td>\n",
       "      <td>1.0</td>\n",
       "      <td>1.0</td>\n",
       "      <td>0</td>\n",
       "      <td>1</td>\n",
       "      <td>7.60</td>\n",
       "      <td>0</td>\n",
       "      <td>1</td>\n",
       "      <td>2</td>\n",
       "      <td>0</td>\n",
       "      <td>0</td>\n",
       "      <td>0</td>\n",
       "      <td>1</td>\n",
       "      <td>65.30</td>\n",
       "    </tr>\n",
       "    <tr>\n",
       "      <th>313</th>\n",
       "      <td>3</td>\n",
       "      <td>25</td>\n",
       "      <td>62.4</td>\n",
       "      <td>1</td>\n",
       "      <td>0</td>\n",
       "      <td>50.0</td>\n",
       "      <td>2.0</td>\n",
       "      <td>NaN</td>\n",
       "      <td>1.0</td>\n",
       "      <td>0</td>\n",
       "      <td>0</td>\n",
       "      <td>9.30</td>\n",
       "      <td>0</td>\n",
       "      <td>2</td>\n",
       "      <td>3</td>\n",
       "      <td>0</td>\n",
       "      <td>0</td>\n",
       "      <td>1</td>\n",
       "      <td>0</td>\n",
       "      <td>52.30</td>\n",
       "    </tr>\n",
       "    <tr>\n",
       "      <th>314</th>\n",
       "      <td>2</td>\n",
       "      <td>15</td>\n",
       "      <td>57.6</td>\n",
       "      <td>0</td>\n",
       "      <td>0</td>\n",
       "      <td>74.9</td>\n",
       "      <td>1.0</td>\n",
       "      <td>1.0</td>\n",
       "      <td>1.0</td>\n",
       "      <td>0</td>\n",
       "      <td>1</td>\n",
       "      <td>4.50</td>\n",
       "      <td>0</td>\n",
       "      <td>2</td>\n",
       "      <td>2</td>\n",
       "      <td>0</td>\n",
       "      <td>0</td>\n",
       "      <td>0</td>\n",
       "      <td>1</td>\n",
       "      <td>26.77</td>\n",
       "    </tr>\n",
       "    <tr>\n",
       "      <th>315</th>\n",
       "      <td>3</td>\n",
       "      <td>25</td>\n",
       "      <td>59.9</td>\n",
       "      <td>0</td>\n",
       "      <td>1</td>\n",
       "      <td>54.1</td>\n",
       "      <td>3.0</td>\n",
       "      <td>1.0</td>\n",
       "      <td>1.0</td>\n",
       "      <td>0</td>\n",
       "      <td>1</td>\n",
       "      <td>6.80</td>\n",
       "      <td>0</td>\n",
       "      <td>1</td>\n",
       "      <td>3</td>\n",
       "      <td>0</td>\n",
       "      <td>0</td>\n",
       "      <td>0</td>\n",
       "      <td>1</td>\n",
       "      <td>24.87</td>\n",
       "    </tr>\n",
       "  </tbody>\n",
       "</table>\n",
       "<p>316 rows × 20 columns</p>\n",
       "</div>"
      ],
      "text/plain": [
       "     RBC.Age.Group  Median.RBC.Age   Age  AA  FamHx   PVol  TVol  T.Stage  \\\n",
       "0                3              25  72.1   0      0   54.0   3.0      1.0   \n",
       "1                3              25  73.6   0      0   43.2   3.0      2.0   \n",
       "2                3              25  67.5   0      0  102.7   1.0      1.0   \n",
       "3                2              15  65.8   0      0   46.0   1.0      1.0   \n",
       "4                2              15  63.2   0      0   60.0   2.0      1.0   \n",
       "..             ...             ...   ...  ..    ...    ...   ...      ...   \n",
       "311              1              10  54.8   0      0   25.6   2.0      1.0   \n",
       "312              3              25  62.3   1      0   42.3   2.0      1.0   \n",
       "313              3              25  62.4   1      0   50.0   2.0      NaN   \n",
       "314              2              15  57.6   0      0   74.9   1.0      1.0   \n",
       "315              3              25  59.9   0      1   54.1   3.0      1.0   \n",
       "\n",
       "     bGS  BN+  OrganConfined  PreopPSA  PreopTherapy  Units  sGS  \\\n",
       "0    3.0    0              0     14.08             1      6    1   \n",
       "1    2.0    0              1     10.50             0      2    3   \n",
       "2    3.0    0              1      6.98             1      1    1   \n",
       "3    1.0    0              1      4.40             0      2    3   \n",
       "4    2.0    0              1     21.40             0      3    3   \n",
       "..   ...  ...            ...       ...           ...    ...  ...   \n",
       "311  1.0    0              1      5.00             0      1    3   \n",
       "312  1.0    0              1      7.60             0      1    2   \n",
       "313  1.0    0              0      9.30             0      2    3   \n",
       "314  1.0    0              1      4.50             0      2    2   \n",
       "315  1.0    0              1      6.80             0      1    3   \n",
       "\n",
       "     AnyAdjTherapy  AdjRadTherapy  Recurrence  Censor  TimeToRecurrence  \n",
       "0                0              0           1       0              2.67  \n",
       "1                0              0           1       0             47.63  \n",
       "2                0              0           0       1             14.10  \n",
       "3                0              0           0       1             59.47  \n",
       "4                0              0           0       1              1.23  \n",
       "..             ...            ...         ...     ...               ...  \n",
       "311              0              0           0       1             76.03  \n",
       "312              0              0           0       1             65.30  \n",
       "313              0              0           1       0             52.30  \n",
       "314              0              0           0       1             26.77  \n",
       "315              0              0           0       1             24.87  \n",
       "\n",
       "[316 rows x 20 columns]"
      ]
     },
     "execution_count": 2,
     "metadata": {},
     "output_type": "execute_result"
    }
   ],
   "source": [
    "blood = pd.read_csv(\"data/medicaldata_blood_storage.csv\")\n",
    "blood"
   ]
  },
  {
   "cell_type": "code",
   "execution_count": 5,
   "metadata": {},
   "outputs": [
    {
     "data": {
      "text/plain": [
       "0    262\n",
       "1     54\n",
       "Name: Recurrence, dtype: int64"
      ]
     },
     "execution_count": 5,
     "metadata": {},
     "output_type": "execute_result"
    }
   ],
   "source": [
    "blood[\"Recurrence\"].value_counts()"
   ]
  },
  {
   "cell_type": "code",
   "execution_count": 10,
   "metadata": {},
   "outputs": [
    {
     "name": "stdout",
     "output_type": "stream",
     "text": [
      "Optimization terminated successfully.\n",
      "         Current function value: 0.456452\n",
      "         Iterations 6\n"
     ]
    },
    {
     "data": {
      "text/html": [
       "<table class=\"simpletable\">\n",
       "<caption>Logit Regression Results</caption>\n",
       "<tr>\n",
       "  <th>Dep. Variable:</th>      <td>Recurrence</td>    <th>  No. Observations:  </th>  <td>   316</td> \n",
       "</tr>\n",
       "<tr>\n",
       "  <th>Model:</th>                 <td>Logit</td>      <th>  Df Residuals:      </th>  <td>   314</td> \n",
       "</tr>\n",
       "<tr>\n",
       "  <th>Method:</th>                 <td>MLE</td>       <th>  Df Model:          </th>  <td>     1</td> \n",
       "</tr>\n",
       "<tr>\n",
       "  <th>Date:</th>            <td>Thu, 23 Sep 2021</td> <th>  Pseudo R-squ.:     </th> <td>0.001828</td>\n",
       "</tr>\n",
       "<tr>\n",
       "  <th>Time:</th>                <td>22:23:12</td>     <th>  Log-Likelihood:    </th> <td> -144.24</td>\n",
       "</tr>\n",
       "<tr>\n",
       "  <th>converged:</th>             <td>True</td>       <th>  LL-Null:           </th> <td> -144.50</td>\n",
       "</tr>\n",
       "<tr>\n",
       "  <th>Covariance Type:</th>     <td>nonrobust</td>    <th>  LLR p-value:       </th>  <td>0.4673</td> \n",
       "</tr>\n",
       "</table>\n",
       "<table class=\"simpletable\">\n",
       "<tr>\n",
       "      <td></td>         <th>coef</th>     <th>std err</th>      <th>z</th>      <th>P>|z|</th>  <th>[0.025</th>    <th>0.975]</th>  \n",
       "</tr>\n",
       "<tr>\n",
       "  <th>Intercept</th> <td>   -2.5107</td> <td>    1.302</td> <td>   -1.928</td> <td> 0.054</td> <td>   -5.062</td> <td>    0.041</td>\n",
       "</tr>\n",
       "<tr>\n",
       "  <th>Age</th>       <td>    0.0152</td> <td>    0.021</td> <td>    0.723</td> <td> 0.470</td> <td>   -0.026</td> <td>    0.056</td>\n",
       "</tr>\n",
       "</table>"
      ],
      "text/plain": [
       "<class 'statsmodels.iolib.summary.Summary'>\n",
       "\"\"\"\n",
       "                           Logit Regression Results                           \n",
       "==============================================================================\n",
       "Dep. Variable:             Recurrence   No. Observations:                  316\n",
       "Model:                          Logit   Df Residuals:                      314\n",
       "Method:                           MLE   Df Model:                            1\n",
       "Date:                Thu, 23 Sep 2021   Pseudo R-squ.:                0.001828\n",
       "Time:                        22:23:12   Log-Likelihood:                -144.24\n",
       "converged:                       True   LL-Null:                       -144.50\n",
       "Covariance Type:            nonrobust   LLR p-value:                    0.4673\n",
       "==============================================================================\n",
       "                 coef    std err          z      P>|z|      [0.025      0.975]\n",
       "------------------------------------------------------------------------------\n",
       "Intercept     -2.5107      1.302     -1.928      0.054      -5.062       0.041\n",
       "Age            0.0152      0.021      0.723      0.470      -0.026       0.056\n",
       "==============================================================================\n",
       "\"\"\""
      ]
     },
     "execution_count": 10,
     "metadata": {},
     "output_type": "execute_result"
    }
   ],
   "source": [
    "model = smf.logit(\"Recurrence ~ Age\", data = blood)\n",
    "res = model.fit()\n",
    "res.summary()"
   ]
  },
  {
   "cell_type": "code",
   "execution_count": 11,
   "metadata": {},
   "outputs": [
    {
     "data": {
      "text/plain": [
       "Intercept   -2.510677\n",
       "Age          0.015164\n",
       "dtype: float64"
      ]
     },
     "execution_count": 11,
     "metadata": {},
     "output_type": "execute_result"
    }
   ],
   "source": [
    "res.params"
   ]
  },
  {
   "cell_type": "code",
   "execution_count": 14,
   "metadata": {},
   "outputs": [
    {
     "data": {
      "text/plain": [
       "Intercept    0.081213\n",
       "Age          1.015279\n",
       "dtype: float64"
      ]
     },
     "execution_count": 14,
     "metadata": {},
     "output_type": "execute_result"
    }
   ],
   "source": [
    "np.exp(res.params)"
   ]
  },
  {
   "cell_type": "code",
   "execution_count": 15,
   "metadata": {},
   "outputs": [
    {
     "name": "stdout",
     "output_type": "stream",
     "text": [
      "Optimization terminated successfully.\n",
      "         Current function value: 0.421375\n",
      "         Iterations 6\n"
     ]
    },
    {
     "data": {
      "text/html": [
       "<table class=\"simpletable\">\n",
       "<caption>Logit Regression Results</caption>\n",
       "<tr>\n",
       "  <th>Dep. Variable:</th>      <td>Recurrence</td>    <th>  No. Observations:  </th>  <td>   305</td>  \n",
       "</tr>\n",
       "<tr>\n",
       "  <th>Model:</th>                 <td>Logit</td>      <th>  Df Residuals:      </th>  <td>   301</td>  \n",
       "</tr>\n",
       "<tr>\n",
       "  <th>Method:</th>                 <td>MLE</td>       <th>  Df Model:          </th>  <td>     3</td>  \n",
       "</tr>\n",
       "<tr>\n",
       "  <th>Date:</th>            <td>Thu, 23 Sep 2021</td> <th>  Pseudo R-squ.:     </th>  <td>0.06660</td> \n",
       "</tr>\n",
       "<tr>\n",
       "  <th>Time:</th>                <td>22:27:56</td>     <th>  Log-Likelihood:    </th> <td> -128.52</td> \n",
       "</tr>\n",
       "<tr>\n",
       "  <th>converged:</th>             <td>True</td>       <th>  LL-Null:           </th> <td> -137.69</td> \n",
       "</tr>\n",
       "<tr>\n",
       "  <th>Covariance Type:</th>     <td>nonrobust</td>    <th>  LLR p-value:       </th> <td>0.0003744</td>\n",
       "</tr>\n",
       "</table>\n",
       "<table class=\"simpletable\">\n",
       "<tr>\n",
       "      <td></td>         <th>coef</th>     <th>std err</th>      <th>z</th>      <th>P>|z|</th>  <th>[0.025</th>    <th>0.975]</th>  \n",
       "</tr>\n",
       "<tr>\n",
       "  <th>Intercept</th> <td>   -3.7564</td> <td>    1.439</td> <td>   -2.611</td> <td> 0.009</td> <td>   -6.576</td> <td>   -0.937</td>\n",
       "</tr>\n",
       "<tr>\n",
       "  <th>Age</th>       <td>    0.0281</td> <td>    0.024</td> <td>    1.194</td> <td> 0.232</td> <td>   -0.018</td> <td>    0.074</td>\n",
       "</tr>\n",
       "<tr>\n",
       "  <th>PVol</th>      <td>   -0.0080</td> <td>    0.006</td> <td>   -1.368</td> <td> 0.171</td> <td>   -0.019</td> <td>    0.003</td>\n",
       "</tr>\n",
       "<tr>\n",
       "  <th>PreopPSA</th>  <td>    0.0952</td> <td>    0.023</td> <td>    4.128</td> <td> 0.000</td> <td>    0.050</td> <td>    0.140</td>\n",
       "</tr>\n",
       "</table>"
      ],
      "text/plain": [
       "<class 'statsmodels.iolib.summary.Summary'>\n",
       "\"\"\"\n",
       "                           Logit Regression Results                           \n",
       "==============================================================================\n",
       "Dep. Variable:             Recurrence   No. Observations:                  305\n",
       "Model:                          Logit   Df Residuals:                      301\n",
       "Method:                           MLE   Df Model:                            3\n",
       "Date:                Thu, 23 Sep 2021   Pseudo R-squ.:                 0.06660\n",
       "Time:                        22:27:56   Log-Likelihood:                -128.52\n",
       "converged:                       True   LL-Null:                       -137.69\n",
       "Covariance Type:            nonrobust   LLR p-value:                 0.0003744\n",
       "==============================================================================\n",
       "                 coef    std err          z      P>|z|      [0.025      0.975]\n",
       "------------------------------------------------------------------------------\n",
       "Intercept     -3.7564      1.439     -2.611      0.009      -6.576      -0.937\n",
       "Age            0.0281      0.024      1.194      0.232      -0.018       0.074\n",
       "PVol          -0.0080      0.006     -1.368      0.171      -0.019       0.003\n",
       "PreopPSA       0.0952      0.023      4.128      0.000       0.050       0.140\n",
       "==============================================================================\n",
       "\"\"\""
      ]
     },
     "execution_count": 15,
     "metadata": {},
     "output_type": "execute_result"
    }
   ],
   "source": [
    "model2 = smf.logit(\"Recurrence ~ Age + PVol + PreopPSA\", data = blood)\n",
    "res2 = model2.fit()\n",
    "res2.summary()"
   ]
  },
  {
   "cell_type": "code",
   "execution_count": 16,
   "metadata": {},
   "outputs": [
    {
     "data": {
      "text/plain": [
       "Intercept    0.023368\n",
       "Age          1.028542\n",
       "PVol         0.992061\n",
       "PreopPSA     1.099839\n",
       "dtype: float64"
      ]
     },
     "execution_count": 16,
     "metadata": {},
     "output_type": "execute_result"
    }
   ],
   "source": [
    "np.exp(res2.params)"
   ]
  },
  {
   "cell_type": "code",
   "execution_count": 18,
   "metadata": {},
   "outputs": [
    {
     "name": "stdout",
     "output_type": "stream",
     "text": [
      "Optimization terminated successfully.\n",
      "         Current function value: 0.382324\n",
      "         Iterations 8\n"
     ]
    },
    {
     "data": {
      "text/plain": [
       "Intercept          0.002155\n",
       "C(TVol)[T.2.0]     7.948254\n",
       "C(TVol)[T.3.0]    22.647154\n",
       "Age                1.026896\n",
       "PVol               0.999990\n",
       "PreopPSA           1.060348\n",
       "dtype: float64"
      ]
     },
     "execution_count": 18,
     "metadata": {},
     "output_type": "execute_result"
    }
   ],
   "source": [
    "model3 = smf.logit(\"Recurrence ~ Age + PVol + PreopPSA + C(TVol)\", data = blood)\n",
    "res3 = model3.fit()\n",
    "res3.summary()\n",
    "np.exp(res3.params)"
   ]
  },
  {
   "cell_type": "code",
   "execution_count": 20,
   "metadata": {},
   "outputs": [
    {
     "name": "stdout",
     "output_type": "stream",
     "text": [
      "<class 'pandas.core.frame.DataFrame'>\n",
      "RangeIndex: 316 entries, 0 to 315\n",
      "Data columns (total 20 columns):\n",
      " #   Column            Non-Null Count  Dtype  \n",
      "---  ------            --------------  -----  \n",
      " 0   RBC.Age.Group     316 non-null    int64  \n",
      " 1   Median.RBC.Age    316 non-null    int64  \n",
      " 2   Age               316 non-null    float64\n",
      " 3   AA                316 non-null    int64  \n",
      " 4   FamHx             316 non-null    int64  \n",
      " 5   PVol              307 non-null    float64\n",
      " 6   TVol              310 non-null    float64\n",
      " 7   T.Stage           303 non-null    float64\n",
      " 8   bGS               314 non-null    float64\n",
      " 9   BN+               316 non-null    int64  \n",
      " 10  OrganConfined     316 non-null    int64  \n",
      " 11  PreopPSA          313 non-null    float64\n",
      " 12  PreopTherapy      316 non-null    int64  \n",
      " 13  Units             316 non-null    int64  \n",
      " 14  sGS               316 non-null    int64  \n",
      " 15  AnyAdjTherapy     316 non-null    int64  \n",
      " 16  AdjRadTherapy     316 non-null    int64  \n",
      " 17  Recurrence        316 non-null    int64  \n",
      " 18  Censor            316 non-null    int64  \n",
      " 19  TimeToRecurrence  315 non-null    float64\n",
      "dtypes: float64(7), int64(13)\n",
      "memory usage: 49.5 KB\n"
     ]
    }
   ],
   "source": [
    "blood.info()"
   ]
  },
  {
   "cell_type": "code",
   "execution_count": 21,
   "metadata": {},
   "outputs": [
    {
     "data": {
      "text/html": [
       "<div>\n",
       "<style scoped>\n",
       "    .dataframe tbody tr th:only-of-type {\n",
       "        vertical-align: middle;\n",
       "    }\n",
       "\n",
       "    .dataframe tbody tr th {\n",
       "        vertical-align: top;\n",
       "    }\n",
       "\n",
       "    .dataframe thead th {\n",
       "        text-align: right;\n",
       "    }\n",
       "</style>\n",
       "<table border=\"1\" class=\"dataframe\">\n",
       "  <thead>\n",
       "    <tr style=\"text-align: right;\">\n",
       "      <th></th>\n",
       "      <th>Recurrence</th>\n",
       "      <th>Age</th>\n",
       "      <th>PVol</th>\n",
       "      <th>PreopPSA</th>\n",
       "      <th>TVol</th>\n",
       "    </tr>\n",
       "  </thead>\n",
       "  <tbody>\n",
       "    <tr>\n",
       "      <th>0</th>\n",
       "      <td>1</td>\n",
       "      <td>72.1</td>\n",
       "      <td>54.0</td>\n",
       "      <td>14.08</td>\n",
       "      <td>3.0</td>\n",
       "    </tr>\n",
       "    <tr>\n",
       "      <th>1</th>\n",
       "      <td>1</td>\n",
       "      <td>73.6</td>\n",
       "      <td>43.2</td>\n",
       "      <td>10.50</td>\n",
       "      <td>3.0</td>\n",
       "    </tr>\n",
       "    <tr>\n",
       "      <th>2</th>\n",
       "      <td>0</td>\n",
       "      <td>67.5</td>\n",
       "      <td>102.7</td>\n",
       "      <td>6.98</td>\n",
       "      <td>1.0</td>\n",
       "    </tr>\n",
       "    <tr>\n",
       "      <th>3</th>\n",
       "      <td>0</td>\n",
       "      <td>65.8</td>\n",
       "      <td>46.0</td>\n",
       "      <td>4.40</td>\n",
       "      <td>1.0</td>\n",
       "    </tr>\n",
       "    <tr>\n",
       "      <th>4</th>\n",
       "      <td>0</td>\n",
       "      <td>63.2</td>\n",
       "      <td>60.0</td>\n",
       "      <td>21.40</td>\n",
       "      <td>2.0</td>\n",
       "    </tr>\n",
       "    <tr>\n",
       "      <th>...</th>\n",
       "      <td>...</td>\n",
       "      <td>...</td>\n",
       "      <td>...</td>\n",
       "      <td>...</td>\n",
       "      <td>...</td>\n",
       "    </tr>\n",
       "    <tr>\n",
       "      <th>311</th>\n",
       "      <td>0</td>\n",
       "      <td>54.8</td>\n",
       "      <td>25.6</td>\n",
       "      <td>5.00</td>\n",
       "      <td>2.0</td>\n",
       "    </tr>\n",
       "    <tr>\n",
       "      <th>312</th>\n",
       "      <td>0</td>\n",
       "      <td>62.3</td>\n",
       "      <td>42.3</td>\n",
       "      <td>7.60</td>\n",
       "      <td>2.0</td>\n",
       "    </tr>\n",
       "    <tr>\n",
       "      <th>313</th>\n",
       "      <td>1</td>\n",
       "      <td>62.4</td>\n",
       "      <td>50.0</td>\n",
       "      <td>9.30</td>\n",
       "      <td>2.0</td>\n",
       "    </tr>\n",
       "    <tr>\n",
       "      <th>314</th>\n",
       "      <td>0</td>\n",
       "      <td>57.6</td>\n",
       "      <td>74.9</td>\n",
       "      <td>4.50</td>\n",
       "      <td>1.0</td>\n",
       "    </tr>\n",
       "    <tr>\n",
       "      <th>315</th>\n",
       "      <td>0</td>\n",
       "      <td>59.9</td>\n",
       "      <td>54.1</td>\n",
       "      <td>6.80</td>\n",
       "      <td>3.0</td>\n",
       "    </tr>\n",
       "  </tbody>\n",
       "</table>\n",
       "<p>316 rows × 5 columns</p>\n",
       "</div>"
      ],
      "text/plain": [
       "     Recurrence   Age   PVol  PreopPSA  TVol\n",
       "0             1  72.1   54.0     14.08   3.0\n",
       "1             1  73.6   43.2     10.50   3.0\n",
       "2             0  67.5  102.7      6.98   1.0\n",
       "3             0  65.8   46.0      4.40   1.0\n",
       "4             0  63.2   60.0     21.40   2.0\n",
       "..          ...   ...    ...       ...   ...\n",
       "311           0  54.8   25.6      5.00   2.0\n",
       "312           0  62.3   42.3      7.60   2.0\n",
       "313           1  62.4   50.0      9.30   2.0\n",
       "314           0  57.6   74.9      4.50   1.0\n",
       "315           0  59.9   54.1      6.80   3.0\n",
       "\n",
       "[316 rows x 5 columns]"
      ]
     },
     "execution_count": 21,
     "metadata": {},
     "output_type": "execute_result"
    }
   ],
   "source": [
    "blood_subset = blood[[\"Recurrence\", \"Age\", \"PVol\", \"PreopPSA\", \"TVol\"]]\n",
    "blood_subset"
   ]
  },
  {
   "cell_type": "code",
   "execution_count": 25,
   "metadata": {},
   "outputs": [
    {
     "name": "stdout",
     "output_type": "stream",
     "text": [
      "<class 'pandas.core.frame.DataFrame'>\n",
      "RangeIndex: 316 entries, 0 to 315\n",
      "Data columns (total 5 columns):\n",
      " #   Column      Non-Null Count  Dtype   \n",
      "---  ------      --------------  -----   \n",
      " 0   Recurrence  316 non-null    int64   \n",
      " 1   Age         316 non-null    float64 \n",
      " 2   PVol        307 non-null    float64 \n",
      " 3   PreopPSA    313 non-null    float64 \n",
      " 4   TVol        310 non-null    category\n",
      "dtypes: category(1), float64(3), int64(1)\n",
      "memory usage: 10.4 KB\n"
     ]
    },
    {
     "name": "stderr",
     "output_type": "stream",
     "text": [
      "C:\\Users\\corra\\AppData\\Local\\Temp/ipykernel_12020/1173465625.py:1: SettingWithCopyWarning: \n",
      "A value is trying to be set on a copy of a slice from a DataFrame.\n",
      "Try using .loc[row_indexer,col_indexer] = value instead\n",
      "\n",
      "See the caveats in the documentation: https://pandas.pydata.org/pandas-docs/stable/user_guide/indexing.html#returning-a-view-versus-a-copy\n",
      "  blood_subset[\"TVol\"] = blood_subset[\"TVol\"].astype(\"category\")\n"
     ]
    }
   ],
   "source": [
    "blood_subset[\"TVol\"] = blood_subset[\"TVol\"].astype(\"category\")\n",
    "blood_subset.info()"
   ]
  },
  {
   "cell_type": "code",
   "execution_count": 34,
   "metadata": {},
   "outputs": [
    {
     "data": {
      "text/html": [
       "<div>\n",
       "<style scoped>\n",
       "    .dataframe tbody tr th:only-of-type {\n",
       "        vertical-align: middle;\n",
       "    }\n",
       "\n",
       "    .dataframe tbody tr th {\n",
       "        vertical-align: top;\n",
       "    }\n",
       "\n",
       "    .dataframe thead th {\n",
       "        text-align: right;\n",
       "    }\n",
       "</style>\n",
       "<table border=\"1\" class=\"dataframe\">\n",
       "  <thead>\n",
       "    <tr style=\"text-align: right;\">\n",
       "      <th></th>\n",
       "      <th>Recurrence</th>\n",
       "      <th>Age</th>\n",
       "      <th>PVol</th>\n",
       "      <th>PreopPSA</th>\n",
       "      <th>TVol_2.0</th>\n",
       "      <th>TVol_3.0</th>\n",
       "    </tr>\n",
       "  </thead>\n",
       "  <tbody>\n",
       "    <tr>\n",
       "      <th>0</th>\n",
       "      <td>1</td>\n",
       "      <td>72.1</td>\n",
       "      <td>54.0</td>\n",
       "      <td>14.08</td>\n",
       "      <td>0</td>\n",
       "      <td>1</td>\n",
       "    </tr>\n",
       "    <tr>\n",
       "      <th>1</th>\n",
       "      <td>1</td>\n",
       "      <td>73.6</td>\n",
       "      <td>43.2</td>\n",
       "      <td>10.50</td>\n",
       "      <td>0</td>\n",
       "      <td>1</td>\n",
       "    </tr>\n",
       "    <tr>\n",
       "      <th>2</th>\n",
       "      <td>0</td>\n",
       "      <td>67.5</td>\n",
       "      <td>102.7</td>\n",
       "      <td>6.98</td>\n",
       "      <td>0</td>\n",
       "      <td>0</td>\n",
       "    </tr>\n",
       "    <tr>\n",
       "      <th>3</th>\n",
       "      <td>0</td>\n",
       "      <td>65.8</td>\n",
       "      <td>46.0</td>\n",
       "      <td>4.40</td>\n",
       "      <td>0</td>\n",
       "      <td>0</td>\n",
       "    </tr>\n",
       "    <tr>\n",
       "      <th>4</th>\n",
       "      <td>0</td>\n",
       "      <td>63.2</td>\n",
       "      <td>60.0</td>\n",
       "      <td>21.40</td>\n",
       "      <td>1</td>\n",
       "      <td>0</td>\n",
       "    </tr>\n",
       "    <tr>\n",
       "      <th>...</th>\n",
       "      <td>...</td>\n",
       "      <td>...</td>\n",
       "      <td>...</td>\n",
       "      <td>...</td>\n",
       "      <td>...</td>\n",
       "      <td>...</td>\n",
       "    </tr>\n",
       "    <tr>\n",
       "      <th>311</th>\n",
       "      <td>0</td>\n",
       "      <td>54.8</td>\n",
       "      <td>25.6</td>\n",
       "      <td>5.00</td>\n",
       "      <td>1</td>\n",
       "      <td>0</td>\n",
       "    </tr>\n",
       "    <tr>\n",
       "      <th>312</th>\n",
       "      <td>0</td>\n",
       "      <td>62.3</td>\n",
       "      <td>42.3</td>\n",
       "      <td>7.60</td>\n",
       "      <td>1</td>\n",
       "      <td>0</td>\n",
       "    </tr>\n",
       "    <tr>\n",
       "      <th>313</th>\n",
       "      <td>1</td>\n",
       "      <td>62.4</td>\n",
       "      <td>50.0</td>\n",
       "      <td>9.30</td>\n",
       "      <td>1</td>\n",
       "      <td>0</td>\n",
       "    </tr>\n",
       "    <tr>\n",
       "      <th>314</th>\n",
       "      <td>0</td>\n",
       "      <td>57.6</td>\n",
       "      <td>74.9</td>\n",
       "      <td>4.50</td>\n",
       "      <td>0</td>\n",
       "      <td>0</td>\n",
       "    </tr>\n",
       "    <tr>\n",
       "      <th>315</th>\n",
       "      <td>0</td>\n",
       "      <td>59.9</td>\n",
       "      <td>54.1</td>\n",
       "      <td>6.80</td>\n",
       "      <td>0</td>\n",
       "      <td>1</td>\n",
       "    </tr>\n",
       "  </tbody>\n",
       "</table>\n",
       "<p>305 rows × 6 columns</p>\n",
       "</div>"
      ],
      "text/plain": [
       "     Recurrence   Age   PVol  PreopPSA  TVol_2.0  TVol_3.0\n",
       "0             1  72.1   54.0     14.08         0         1\n",
       "1             1  73.6   43.2     10.50         0         1\n",
       "2             0  67.5  102.7      6.98         0         0\n",
       "3             0  65.8   46.0      4.40         0         0\n",
       "4             0  63.2   60.0     21.40         1         0\n",
       "..          ...   ...    ...       ...       ...       ...\n",
       "311           0  54.8   25.6      5.00         1         0\n",
       "312           0  62.3   42.3      7.60         1         0\n",
       "313           1  62.4   50.0      9.30         1         0\n",
       "314           0  57.6   74.9      4.50         0         0\n",
       "315           0  59.9   54.1      6.80         0         1\n",
       "\n",
       "[305 rows x 6 columns]"
      ]
     },
     "execution_count": 34,
     "metadata": {},
     "output_type": "execute_result"
    }
   ],
   "source": [
    "blood_sub_dummy = pd.get_dummies(blood_subset, drop_first = True)\n",
    "blood_sub_dummy = blood_sub_dummy.dropna()\n",
    "blood_sub_dummy"
   ]
  },
  {
   "cell_type": "code",
   "execution_count": 35,
   "metadata": {},
   "outputs": [
    {
     "data": {
      "text/plain": [
       "0      1\n",
       "1      1\n",
       "2      0\n",
       "3      0\n",
       "4      0\n",
       "      ..\n",
       "311    0\n",
       "312    0\n",
       "313    1\n",
       "314    0\n",
       "315    0\n",
       "Name: Recurrence, Length: 305, dtype: int64"
      ]
     },
     "execution_count": 35,
     "metadata": {},
     "output_type": "execute_result"
    }
   ],
   "source": [
    "response = blood_sub_dummy[\"Recurrence\"]\n",
    "response"
   ]
  },
  {
   "cell_type": "code",
   "execution_count": 36,
   "metadata": {},
   "outputs": [
    {
     "data": {
      "text/html": [
       "<div>\n",
       "<style scoped>\n",
       "    .dataframe tbody tr th:only-of-type {\n",
       "        vertical-align: middle;\n",
       "    }\n",
       "\n",
       "    .dataframe tbody tr th {\n",
       "        vertical-align: top;\n",
       "    }\n",
       "\n",
       "    .dataframe thead th {\n",
       "        text-align: right;\n",
       "    }\n",
       "</style>\n",
       "<table border=\"1\" class=\"dataframe\">\n",
       "  <thead>\n",
       "    <tr style=\"text-align: right;\">\n",
       "      <th></th>\n",
       "      <th>Age</th>\n",
       "      <th>PVol</th>\n",
       "      <th>PreopPSA</th>\n",
       "      <th>TVol_2.0</th>\n",
       "      <th>TVol_3.0</th>\n",
       "    </tr>\n",
       "  </thead>\n",
       "  <tbody>\n",
       "    <tr>\n",
       "      <th>0</th>\n",
       "      <td>72.1</td>\n",
       "      <td>54.0</td>\n",
       "      <td>14.08</td>\n",
       "      <td>0</td>\n",
       "      <td>1</td>\n",
       "    </tr>\n",
       "    <tr>\n",
       "      <th>1</th>\n",
       "      <td>73.6</td>\n",
       "      <td>43.2</td>\n",
       "      <td>10.50</td>\n",
       "      <td>0</td>\n",
       "      <td>1</td>\n",
       "    </tr>\n",
       "    <tr>\n",
       "      <th>2</th>\n",
       "      <td>67.5</td>\n",
       "      <td>102.7</td>\n",
       "      <td>6.98</td>\n",
       "      <td>0</td>\n",
       "      <td>0</td>\n",
       "    </tr>\n",
       "    <tr>\n",
       "      <th>3</th>\n",
       "      <td>65.8</td>\n",
       "      <td>46.0</td>\n",
       "      <td>4.40</td>\n",
       "      <td>0</td>\n",
       "      <td>0</td>\n",
       "    </tr>\n",
       "    <tr>\n",
       "      <th>4</th>\n",
       "      <td>63.2</td>\n",
       "      <td>60.0</td>\n",
       "      <td>21.40</td>\n",
       "      <td>1</td>\n",
       "      <td>0</td>\n",
       "    </tr>\n",
       "    <tr>\n",
       "      <th>...</th>\n",
       "      <td>...</td>\n",
       "      <td>...</td>\n",
       "      <td>...</td>\n",
       "      <td>...</td>\n",
       "      <td>...</td>\n",
       "    </tr>\n",
       "    <tr>\n",
       "      <th>311</th>\n",
       "      <td>54.8</td>\n",
       "      <td>25.6</td>\n",
       "      <td>5.00</td>\n",
       "      <td>1</td>\n",
       "      <td>0</td>\n",
       "    </tr>\n",
       "    <tr>\n",
       "      <th>312</th>\n",
       "      <td>62.3</td>\n",
       "      <td>42.3</td>\n",
       "      <td>7.60</td>\n",
       "      <td>1</td>\n",
       "      <td>0</td>\n",
       "    </tr>\n",
       "    <tr>\n",
       "      <th>313</th>\n",
       "      <td>62.4</td>\n",
       "      <td>50.0</td>\n",
       "      <td>9.30</td>\n",
       "      <td>1</td>\n",
       "      <td>0</td>\n",
       "    </tr>\n",
       "    <tr>\n",
       "      <th>314</th>\n",
       "      <td>57.6</td>\n",
       "      <td>74.9</td>\n",
       "      <td>4.50</td>\n",
       "      <td>0</td>\n",
       "      <td>0</td>\n",
       "    </tr>\n",
       "    <tr>\n",
       "      <th>315</th>\n",
       "      <td>59.9</td>\n",
       "      <td>54.1</td>\n",
       "      <td>6.80</td>\n",
       "      <td>0</td>\n",
       "      <td>1</td>\n",
       "    </tr>\n",
       "  </tbody>\n",
       "</table>\n",
       "<p>305 rows × 5 columns</p>\n",
       "</div>"
      ],
      "text/plain": [
       "      Age   PVol  PreopPSA  TVol_2.0  TVol_3.0\n",
       "0    72.1   54.0     14.08         0         1\n",
       "1    73.6   43.2     10.50         0         1\n",
       "2    67.5  102.7      6.98         0         0\n",
       "3    65.8   46.0      4.40         0         0\n",
       "4    63.2   60.0     21.40         1         0\n",
       "..    ...    ...       ...       ...       ...\n",
       "311  54.8   25.6      5.00         1         0\n",
       "312  62.3   42.3      7.60         1         0\n",
       "313  62.4   50.0      9.30         1         0\n",
       "314  57.6   74.9      4.50         0         0\n",
       "315  59.9   54.1      6.80         0         1\n",
       "\n",
       "[305 rows x 5 columns]"
      ]
     },
     "execution_count": 36,
     "metadata": {},
     "output_type": "execute_result"
    }
   ],
   "source": [
    "predictors = blood_sub_dummy.iloc[:, 1:]\n",
    "predictors"
   ]
  },
  {
   "cell_type": "code",
   "execution_count": 53,
   "metadata": {},
   "outputs": [
    {
     "ename": "NameError",
     "evalue": "name 'random' is not defined",
     "output_type": "error",
     "traceback": [
      "\u001b[1;31m---------------------------------------------------------------------------\u001b[0m",
      "\u001b[1;31mNameError\u001b[0m                                 Traceback (most recent call last)",
      "\u001b[1;32m~\\AppData\\Local\\Temp/ipykernel_12020/1961929296.py\u001b[0m in \u001b[0;36m<module>\u001b[1;34m\u001b[0m\n\u001b[1;32m----> 1\u001b[1;33m \u001b[0mx_train\u001b[0m\u001b[1;33m,\u001b[0m \u001b[0mx_test\u001b[0m\u001b[1;33m,\u001b[0m \u001b[0my_train\u001b[0m\u001b[1;33m,\u001b[0m \u001b[0my_test\u001b[0m \u001b[1;33m=\u001b[0m \u001b[0mtrain_test_split\u001b[0m\u001b[1;33m(\u001b[0m\u001b[0mpredictors\u001b[0m\u001b[1;33m,\u001b[0m \u001b[0mresponse\u001b[0m\u001b[1;33m,\u001b[0m \u001b[0mrandom\u001b[0m\u001b[1;33m)\u001b[0m\u001b[1;33m\u001b[0m\u001b[1;33m\u001b[0m\u001b[0m\n\u001b[0m",
      "\u001b[1;31mNameError\u001b[0m: name 'random' is not defined"
     ]
    }
   ],
   "source": [
    "x_train, x_test, y_train, y_test = train_test_split(predictors, response)"
   ]
  },
  {
   "cell_type": "code",
   "execution_count": 54,
   "metadata": {},
   "outputs": [
    {
     "data": {
      "text/plain": [
       "LogisticRegression(penalty='none')"
      ]
     },
     "execution_count": 54,
     "metadata": {},
     "output_type": "execute_result"
    }
   ],
   "source": [
    "model = LogisticRegression(penalty = \"none\")\n",
    "model.fit(x_train, y_train)"
   ]
  },
  {
   "cell_type": "code",
   "execution_count": 55,
   "metadata": {},
   "outputs": [
    {
     "data": {
      "text/plain": [
       "array([[ 0.06976543, -0.01151467,  0.08957498,  0.92826846,  1.82847272]])"
      ]
     },
     "execution_count": 55,
     "metadata": {},
     "output_type": "execute_result"
    }
   ],
   "source": [
    "model.coef_"
   ]
  },
  {
   "cell_type": "code",
   "execution_count": 56,
   "metadata": {},
   "outputs": [
    {
     "data": {
      "text/plain": [
       "array([-7.24159537])"
      ]
     },
     "execution_count": 56,
     "metadata": {},
     "output_type": "execute_result"
    }
   ],
   "source": [
    "model.intercept_"
   ]
  },
  {
   "cell_type": "code",
   "execution_count": 57,
   "metadata": {},
   "outputs": [
    {
     "data": {
      "text/plain": [
       "array([[1.07225663, 0.98855137, 1.09370934, 2.53012436, 6.22437306]])"
      ]
     },
     "execution_count": 57,
     "metadata": {},
     "output_type": "execute_result"
    }
   ],
   "source": [
    "np.exp(model.coef_)"
   ]
  },
  {
   "cell_type": "code",
   "execution_count": 58,
   "metadata": {},
   "outputs": [
    {
     "data": {
      "text/plain": [
       "array([0, 0, 0, 0, 0, 0, 0, 0, 0, 0, 0, 0, 0, 0, 0, 0, 0, 0, 0, 0, 0, 0,\n",
       "       0, 0, 0, 0, 0, 0, 0, 0, 0, 0, 0, 0, 0, 0, 0, 0, 0, 0, 0, 0, 0, 1,\n",
       "       0, 0, 0, 0, 0, 0, 0, 0, 0, 0, 0, 0, 0, 0, 0, 0, 0, 0, 0, 0, 0, 0,\n",
       "       0, 0, 0, 0, 0, 0, 1, 0, 0, 0, 0], dtype=int64)"
      ]
     },
     "execution_count": 58,
     "metadata": {},
     "output_type": "execute_result"
    }
   ],
   "source": [
    "model.predict(x_test)"
   ]
  },
  {
   "cell_type": "code",
   "execution_count": 59,
   "metadata": {},
   "outputs": [
    {
     "data": {
      "text/plain": [
       "0    66\n",
       "1    11\n",
       "Name: Recurrence, dtype: int64"
      ]
     },
     "execution_count": 59,
     "metadata": {},
     "output_type": "execute_result"
    }
   ],
   "source": [
    "y_test.value_counts()"
   ]
  },
  {
   "cell_type": "code",
   "execution_count": 60,
   "metadata": {},
   "outputs": [
    {
     "data": {
      "text/plain": [
       "0.8311688311688312"
      ]
     },
     "execution_count": 60,
     "metadata": {},
     "output_type": "execute_result"
    }
   ],
   "source": [
    "model.score(x_test, y_test)"
   ]
  },
  {
   "cell_type": "code",
   "execution_count": null,
   "metadata": {},
   "outputs": [],
   "source": []
  },
  {
   "cell_type": "code",
   "execution_count": null,
   "metadata": {},
   "outputs": [],
   "source": []
  }
 ],
 "metadata": {
  "kernelspec": {
   "display_name": "Python 3 (ipykernel)",
   "language": "python",
   "name": "python3"
  },
  "language_info": {
   "codemirror_mode": {
    "name": "ipython",
    "version": 3
   },
   "file_extension": ".py",
   "mimetype": "text/x-python",
   "name": "python",
   "nbconvert_exporter": "python",
   "pygments_lexer": "ipython3",
   "version": "3.8.11"
  }
 },
 "nbformat": 4,
 "nbformat_minor": 4
}
